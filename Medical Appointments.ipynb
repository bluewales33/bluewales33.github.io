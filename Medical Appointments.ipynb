{
 "cells": [
  {
   "cell_type": "markdown",
   "id": "b5e6666b",
   "metadata": {},
   "source": [
    "### PROJECT: INVESTIGATE A DATASET - [NO-SHOW APPOINTMENTS]"
   ]
  },
  {
   "cell_type": "markdown",
   "id": "8d73de66",
   "metadata": {},
   "source": [
    "### Table of Contents"
   ]
  },
  {
   "cell_type": "markdown",
   "id": "8997bdc7",
   "metadata": {},
   "source": [
    "1. Introduction\n",
    "\n",
    "2. Data Wrangling\n",
    "\n",
    "3. Exploratory Data Analysis\n",
    "\n",
    "4. Conclusions"
   ]
  },
  {
   "cell_type": "markdown",
   "id": "9ff59cc1",
   "metadata": {},
   "source": [
    "### 1. INTRODUCTION"
   ]
  },
  {
   "cell_type": "markdown",
   "id": "50e1e208",
   "metadata": {},
   "source": [
    "### Dataset Description\n",
    "\n",
    "   This dataset collects information\n",
    "from 100k medical appointments in\n",
    "Brazil and is focused on the question\n",
    "of whether or not patients show up\n",
    "for their appointment. A number of\n",
    "characteristics about the patient are\n",
    "included in each row.\n",
    "\n",
    "● ‘ScheduledDay’ tells us on\n",
    "what day the patient set up their\n",
    "appointment.\n",
    "\n",
    "● ‘Neighborhood’ indicates the\n",
    "location of the hospital.\n",
    "\n",
    "● ‘Scholarship’ indicates\n",
    "whether or not the patient is\n",
    "enrolled in Brasilian welfare\n",
    "program.\n",
    "\n",
    "### Questions for Analysis\n",
    "\n",
    "###### Q1. What is the ratio of Male to Female Patient in the dataframe?\n",
    "###### Q2. Does the Gender of the patients affect the showing up for their appointments?\n",
    "###### Q3. Does non_handicap patients show up more than the handicap patients?\n",
    "###### Q4. Does messaging the patients affect the showing up for their appointments?"
   ]
  },
  {
   "cell_type": "code",
   "execution_count": 1,
   "id": "7b6b32b9",
   "metadata": {},
   "outputs": [],
   "source": [
    "# Import Libraries\n",
    "import pandas as pd\n",
    "\n",
    "import matplotlib.pyplot as plt\n",
    "import seaborn as sns\n",
    "%matplotlib inline"
   ]
  },
  {
   "cell_type": "code",
   "execution_count": 2,
   "id": "299f47d6",
   "metadata": {},
   "outputs": [],
   "source": [
    "# Import Csv file\n",
    "df=pd.read_csv('appointment.csv')"
   ]
  },
  {
   "cell_type": "markdown",
   "id": "4c17a2ca",
   "metadata": {},
   "source": [
    "### 2. DATA WRANGLING"
   ]
  },
  {
   "cell_type": "code",
   "execution_count": 3,
   "id": "8e3da0cd",
   "metadata": {},
   "outputs": [
    {
     "data": {
      "text/html": [
       "<div>\n",
       "<style scoped>\n",
       "    .dataframe tbody tr th:only-of-type {\n",
       "        vertical-align: middle;\n",
       "    }\n",
       "\n",
       "    .dataframe tbody tr th {\n",
       "        vertical-align: top;\n",
       "    }\n",
       "\n",
       "    .dataframe thead th {\n",
       "        text-align: right;\n",
       "    }\n",
       "</style>\n",
       "<table border=\"1\" class=\"dataframe\">\n",
       "  <thead>\n",
       "    <tr style=\"text-align: right;\">\n",
       "      <th></th>\n",
       "      <th>PatientId</th>\n",
       "      <th>AppointmentID</th>\n",
       "      <th>Gender</th>\n",
       "      <th>ScheduledDay</th>\n",
       "      <th>AppointmentDay</th>\n",
       "      <th>Age</th>\n",
       "      <th>Neighbourhood</th>\n",
       "      <th>Scholarship</th>\n",
       "      <th>Hipertension</th>\n",
       "      <th>Diabetes</th>\n",
       "      <th>Alcoholism</th>\n",
       "      <th>Handcap</th>\n",
       "      <th>SMS_received</th>\n",
       "      <th>No-show</th>\n",
       "    </tr>\n",
       "  </thead>\n",
       "  <tbody>\n",
       "    <tr>\n",
       "      <th>0</th>\n",
       "      <td>2.987250e+13</td>\n",
       "      <td>5642903</td>\n",
       "      <td>F</td>\n",
       "      <td>2016-04-29T18:38:08Z</td>\n",
       "      <td>2016-04-29T00:00:00Z</td>\n",
       "      <td>62</td>\n",
       "      <td>JARDIM DA PENHA</td>\n",
       "      <td>0</td>\n",
       "      <td>1</td>\n",
       "      <td>0</td>\n",
       "      <td>0</td>\n",
       "      <td>0</td>\n",
       "      <td>0</td>\n",
       "      <td>No</td>\n",
       "    </tr>\n",
       "    <tr>\n",
       "      <th>1</th>\n",
       "      <td>5.589978e+14</td>\n",
       "      <td>5642503</td>\n",
       "      <td>M</td>\n",
       "      <td>2016-04-29T16:08:27Z</td>\n",
       "      <td>2016-04-29T00:00:00Z</td>\n",
       "      <td>56</td>\n",
       "      <td>JARDIM DA PENHA</td>\n",
       "      <td>0</td>\n",
       "      <td>0</td>\n",
       "      <td>0</td>\n",
       "      <td>0</td>\n",
       "      <td>0</td>\n",
       "      <td>0</td>\n",
       "      <td>No</td>\n",
       "    </tr>\n",
       "    <tr>\n",
       "      <th>2</th>\n",
       "      <td>4.262962e+12</td>\n",
       "      <td>5642549</td>\n",
       "      <td>F</td>\n",
       "      <td>2016-04-29T16:19:04Z</td>\n",
       "      <td>2016-04-29T00:00:00Z</td>\n",
       "      <td>62</td>\n",
       "      <td>MATA DA PRAIA</td>\n",
       "      <td>0</td>\n",
       "      <td>0</td>\n",
       "      <td>0</td>\n",
       "      <td>0</td>\n",
       "      <td>0</td>\n",
       "      <td>0</td>\n",
       "      <td>No</td>\n",
       "    </tr>\n",
       "    <tr>\n",
       "      <th>3</th>\n",
       "      <td>8.679512e+11</td>\n",
       "      <td>5642828</td>\n",
       "      <td>F</td>\n",
       "      <td>2016-04-29T17:29:31Z</td>\n",
       "      <td>2016-04-29T00:00:00Z</td>\n",
       "      <td>8</td>\n",
       "      <td>PONTAL DE CAMBURI</td>\n",
       "      <td>0</td>\n",
       "      <td>0</td>\n",
       "      <td>0</td>\n",
       "      <td>0</td>\n",
       "      <td>0</td>\n",
       "      <td>0</td>\n",
       "      <td>No</td>\n",
       "    </tr>\n",
       "    <tr>\n",
       "      <th>4</th>\n",
       "      <td>8.841186e+12</td>\n",
       "      <td>5642494</td>\n",
       "      <td>F</td>\n",
       "      <td>2016-04-29T16:07:23Z</td>\n",
       "      <td>2016-04-29T00:00:00Z</td>\n",
       "      <td>56</td>\n",
       "      <td>JARDIM DA PENHA</td>\n",
       "      <td>0</td>\n",
       "      <td>1</td>\n",
       "      <td>1</td>\n",
       "      <td>0</td>\n",
       "      <td>0</td>\n",
       "      <td>0</td>\n",
       "      <td>No</td>\n",
       "    </tr>\n",
       "  </tbody>\n",
       "</table>\n",
       "</div>"
      ],
      "text/plain": [
       "      PatientId  AppointmentID Gender          ScheduledDay  \\\n",
       "0  2.987250e+13        5642903      F  2016-04-29T18:38:08Z   \n",
       "1  5.589978e+14        5642503      M  2016-04-29T16:08:27Z   \n",
       "2  4.262962e+12        5642549      F  2016-04-29T16:19:04Z   \n",
       "3  8.679512e+11        5642828      F  2016-04-29T17:29:31Z   \n",
       "4  8.841186e+12        5642494      F  2016-04-29T16:07:23Z   \n",
       "\n",
       "         AppointmentDay  Age      Neighbourhood  Scholarship  Hipertension  \\\n",
       "0  2016-04-29T00:00:00Z   62    JARDIM DA PENHA            0             1   \n",
       "1  2016-04-29T00:00:00Z   56    JARDIM DA PENHA            0             0   \n",
       "2  2016-04-29T00:00:00Z   62      MATA DA PRAIA            0             0   \n",
       "3  2016-04-29T00:00:00Z    8  PONTAL DE CAMBURI            0             0   \n",
       "4  2016-04-29T00:00:00Z   56    JARDIM DA PENHA            0             1   \n",
       "\n",
       "   Diabetes  Alcoholism  Handcap  SMS_received No-show  \n",
       "0         0           0        0             0      No  \n",
       "1         0           0        0             0      No  \n",
       "2         0           0        0             0      No  \n",
       "3         0           0        0             0      No  \n",
       "4         1           0        0             0      No  "
      ]
     },
     "execution_count": 3,
     "metadata": {},
     "output_type": "execute_result"
    }
   ],
   "source": [
    "# Show the first 5 columns of dataframe\n",
    "df.head()"
   ]
  },
  {
   "cell_type": "code",
   "execution_count": 4,
   "id": "6cec813b",
   "metadata": {},
   "outputs": [
    {
     "data": {
      "text/plain": [
       "(110527, 14)"
      ]
     },
     "execution_count": 4,
     "metadata": {},
     "output_type": "execute_result"
    }
   ],
   "source": [
    "# Show the shape of dataframe\n",
    "df.shape"
   ]
  },
  {
   "cell_type": "code",
   "execution_count": 5,
   "id": "c7fab2f8",
   "metadata": {},
   "outputs": [],
   "source": [
    "# Drop unnecessary column from the dataframe\n",
    "df.drop(['PatientId'], axis=1, inplace=True)"
   ]
  },
  {
   "cell_type": "code",
   "execution_count": 6,
   "id": "5b571c7d",
   "metadata": {},
   "outputs": [
    {
     "data": {
      "text/plain": [
       "(110527, 13)"
      ]
     },
     "execution_count": 6,
     "metadata": {},
     "output_type": "execute_result"
    }
   ],
   "source": [
    "# To re-confirm\n",
    "df.shape"
   ]
  },
  {
   "cell_type": "markdown",
   "id": "3472fa15",
   "metadata": {},
   "source": [
    "The following column labels needs to be renamed: AppointmentID,  ScheduledDay,  AppointmentDay,  Neighbourhood,  Hipertension,  Handcap and  No-show."
   ]
  },
  {
   "cell_type": "code",
   "execution_count": 7,
   "id": "86be5eef",
   "metadata": {},
   "outputs": [],
   "source": [
    "# To rename the column labels\n",
    "df.rename(columns={'AppointmentID': 'Appointment_Id', 'ScheduledDay': 'Scheduled_Day', 'AppointmentDay': 'Appointment_Day', 'Neighbourhood': 'Neighborhood', 'Hipertension': 'Hypertension', 'Handcap': 'Handicap', 'No-show': 'No_show'}, inplace=True)"
   ]
  },
  {
   "cell_type": "code",
   "execution_count": 8,
   "id": "28eb6e68",
   "metadata": {
    "scrolled": false
   },
   "outputs": [
    {
     "data": {
      "text/html": [
       "<div>\n",
       "<style scoped>\n",
       "    .dataframe tbody tr th:only-of-type {\n",
       "        vertical-align: middle;\n",
       "    }\n",
       "\n",
       "    .dataframe tbody tr th {\n",
       "        vertical-align: top;\n",
       "    }\n",
       "\n",
       "    .dataframe thead th {\n",
       "        text-align: right;\n",
       "    }\n",
       "</style>\n",
       "<table border=\"1\" class=\"dataframe\">\n",
       "  <thead>\n",
       "    <tr style=\"text-align: right;\">\n",
       "      <th></th>\n",
       "      <th>Appointment_Id</th>\n",
       "      <th>Gender</th>\n",
       "      <th>Scheduled_Day</th>\n",
       "      <th>Appointment_Day</th>\n",
       "      <th>Age</th>\n",
       "      <th>Neighborhood</th>\n",
       "      <th>Scholarship</th>\n",
       "      <th>Hypertension</th>\n",
       "      <th>Diabetes</th>\n",
       "      <th>Alcoholism</th>\n",
       "      <th>Handicap</th>\n",
       "      <th>SMS_received</th>\n",
       "      <th>No_show</th>\n",
       "    </tr>\n",
       "  </thead>\n",
       "  <tbody>\n",
       "    <tr>\n",
       "      <th>0</th>\n",
       "      <td>5642903</td>\n",
       "      <td>F</td>\n",
       "      <td>2016-04-29T18:38:08Z</td>\n",
       "      <td>2016-04-29T00:00:00Z</td>\n",
       "      <td>62</td>\n",
       "      <td>JARDIM DA PENHA</td>\n",
       "      <td>0</td>\n",
       "      <td>1</td>\n",
       "      <td>0</td>\n",
       "      <td>0</td>\n",
       "      <td>0</td>\n",
       "      <td>0</td>\n",
       "      <td>No</td>\n",
       "    </tr>\n",
       "  </tbody>\n",
       "</table>\n",
       "</div>"
      ],
      "text/plain": [
       "   Appointment_Id Gender         Scheduled_Day       Appointment_Day  Age  \\\n",
       "0         5642903      F  2016-04-29T18:38:08Z  2016-04-29T00:00:00Z   62   \n",
       "\n",
       "      Neighborhood  Scholarship  Hypertension  Diabetes  Alcoholism  Handicap  \\\n",
       "0  JARDIM DA PENHA            0             1         0           0         0   \n",
       "\n",
       "   SMS_received No_show  \n",
       "0             0      No  "
      ]
     },
     "execution_count": 8,
     "metadata": {},
     "output_type": "execute_result"
    }
   ],
   "source": [
    "# To re-confirm\n",
    "df.head(1)"
   ]
  },
  {
   "cell_type": "code",
   "execution_count": 9,
   "id": "3574ec77",
   "metadata": {},
   "outputs": [
    {
     "data": {
      "text/plain": [
       "Appointment_Id     0\n",
       "Gender             0\n",
       "Scheduled_Day      0\n",
       "Appointment_Day    0\n",
       "Age                0\n",
       "Neighborhood       0\n",
       "Scholarship        0\n",
       "Hypertension       0\n",
       "Diabetes           0\n",
       "Alcoholism         0\n",
       "Handicap           0\n",
       "SMS_received       0\n",
       "No_show            0\n",
       "dtype: int64"
      ]
     },
     "execution_count": 9,
     "metadata": {},
     "output_type": "execute_result"
    }
   ],
   "source": [
    "# Checck for missing value in the columns\n",
    "df.isnull().sum()"
   ]
  },
  {
   "cell_type": "markdown",
   "id": "9cfedcc4",
   "metadata": {},
   "source": [
    "No null or missing value in the columns"
   ]
  },
  {
   "cell_type": "code",
   "execution_count": 10,
   "id": "91ddd0c9",
   "metadata": {},
   "outputs": [
    {
     "data": {
      "text/plain": [
       "0"
      ]
     },
     "execution_count": 10,
     "metadata": {},
     "output_type": "execute_result"
    }
   ],
   "source": [
    "# Check for number of duplicate rows in the dataframe\n",
    "sum(df.duplicated())"
   ]
  },
  {
   "cell_type": "markdown",
   "id": "f333f828",
   "metadata": {},
   "source": [
    "There is no duplicate rows in the dataframe"
   ]
  },
  {
   "cell_type": "code",
   "execution_count": 11,
   "id": "65814185",
   "metadata": {},
   "outputs": [
    {
     "data": {
      "text/plain": [
       "Appointment_Id      int64\n",
       "Gender             object\n",
       "Scheduled_Day      object\n",
       "Appointment_Day    object\n",
       "Age                 int64\n",
       "Neighborhood       object\n",
       "Scholarship         int64\n",
       "Hypertension        int64\n",
       "Diabetes            int64\n",
       "Alcoholism          int64\n",
       "Handicap            int64\n",
       "SMS_received        int64\n",
       "No_show            object\n",
       "dtype: object"
      ]
     },
     "execution_count": 11,
     "metadata": {},
     "output_type": "execute_result"
    }
   ],
   "source": [
    "# Show the datatype of the columns in dataframe\n",
    "df.dtypes"
   ]
  },
  {
   "cell_type": "code",
   "execution_count": 12,
   "id": "033745af",
   "metadata": {},
   "outputs": [
    {
     "data": {
      "text/plain": [
       "0    108286\n",
       "1      2042\n",
       "2       183\n",
       "3        13\n",
       "4         3\n",
       "Name: Handicap, dtype: int64"
      ]
     },
     "execution_count": 12,
     "metadata": {},
     "output_type": "execute_result"
    }
   ],
   "source": [
    "# Check the number and counts of unique rows in the column 'Handicap'\n",
    "df.Handicap.value_counts()"
   ]
  },
  {
   "cell_type": "markdown",
   "id": "edb36d2a",
   "metadata": {},
   "source": [
    "Value_counts of column 'Handicap' 2, 3, 4 has to be merged with 1"
   ]
  },
  {
   "cell_type": "code",
   "execution_count": 13,
   "id": "b12cdcd8",
   "metadata": {},
   "outputs": [],
   "source": [
    "# To replace items on a particular column\n",
    "df['Handicap'].replace(2 , 1 ,inplace=True)"
   ]
  },
  {
   "cell_type": "code",
   "execution_count": 14,
   "id": "dc58b148",
   "metadata": {},
   "outputs": [],
   "source": [
    "# To replace items on a particular column\n",
    "df['Handicap'].replace(3 , 1 ,inplace=True)"
   ]
  },
  {
   "cell_type": "code",
   "execution_count": 15,
   "id": "27e54de0",
   "metadata": {},
   "outputs": [],
   "source": [
    "# To replace items on a particular column\n",
    "df['Handicap'].replace(4 , 1 ,inplace=True)"
   ]
  },
  {
   "cell_type": "code",
   "execution_count": 16,
   "id": "cfdc0ae0",
   "metadata": {},
   "outputs": [
    {
     "data": {
      "text/plain": [
       "0    108286\n",
       "1      2241\n",
       "Name: Handicap, dtype: int64"
      ]
     },
     "execution_count": 16,
     "metadata": {},
     "output_type": "execute_result"
    }
   ],
   "source": [
    "# Re-confirm the column 'Handicap'\n",
    "df.Handicap.value_counts()"
   ]
  },
  {
   "cell_type": "markdown",
   "id": "10be3486",
   "metadata": {},
   "source": [
    "'Scheduled_Day' and 'Appointment_Day' datatypes needs to be changed to 'datetime' datatype"
   ]
  },
  {
   "cell_type": "code",
   "execution_count": 17,
   "id": "c92f8bab",
   "metadata": {},
   "outputs": [],
   "source": [
    "# Convert datatypes of 'Scheduled_Day' from 'object' to 'datetime'\n",
    "df.Scheduled_Day = pd.to_datetime(df.Scheduled_Day)"
   ]
  },
  {
   "cell_type": "code",
   "execution_count": 18,
   "id": "4fbda18c",
   "metadata": {},
   "outputs": [],
   "source": [
    "# Convert datatypes of 'Appointment_Day' from 'object' to 'datetime'\n",
    "df.Appointment_Day = pd.to_datetime(df.Appointment_Day)"
   ]
  },
  {
   "cell_type": "code",
   "execution_count": 19,
   "id": "99eb4b04",
   "metadata": {},
   "outputs": [
    {
     "data": {
      "text/html": [
       "<div>\n",
       "<style scoped>\n",
       "    .dataframe tbody tr th:only-of-type {\n",
       "        vertical-align: middle;\n",
       "    }\n",
       "\n",
       "    .dataframe tbody tr th {\n",
       "        vertical-align: top;\n",
       "    }\n",
       "\n",
       "    .dataframe thead th {\n",
       "        text-align: right;\n",
       "    }\n",
       "</style>\n",
       "<table border=\"1\" class=\"dataframe\">\n",
       "  <thead>\n",
       "    <tr style=\"text-align: right;\">\n",
       "      <th></th>\n",
       "      <th>Appointment_Id</th>\n",
       "      <th>Gender</th>\n",
       "      <th>Scheduled_Day</th>\n",
       "      <th>Appointment_Day</th>\n",
       "      <th>Age</th>\n",
       "      <th>Neighborhood</th>\n",
       "      <th>Scholarship</th>\n",
       "      <th>Hypertension</th>\n",
       "      <th>Diabetes</th>\n",
       "      <th>Alcoholism</th>\n",
       "      <th>Handicap</th>\n",
       "      <th>SMS_received</th>\n",
       "      <th>No_show</th>\n",
       "    </tr>\n",
       "  </thead>\n",
       "  <tbody>\n",
       "    <tr>\n",
       "      <th>0</th>\n",
       "      <td>5642903</td>\n",
       "      <td>F</td>\n",
       "      <td>2016-04-29 18:38:08+00:00</td>\n",
       "      <td>2016-04-29 00:00:00+00:00</td>\n",
       "      <td>62</td>\n",
       "      <td>JARDIM DA PENHA</td>\n",
       "      <td>0</td>\n",
       "      <td>1</td>\n",
       "      <td>0</td>\n",
       "      <td>0</td>\n",
       "      <td>0</td>\n",
       "      <td>0</td>\n",
       "      <td>No</td>\n",
       "    </tr>\n",
       "    <tr>\n",
       "      <th>1</th>\n",
       "      <td>5642503</td>\n",
       "      <td>M</td>\n",
       "      <td>2016-04-29 16:08:27+00:00</td>\n",
       "      <td>2016-04-29 00:00:00+00:00</td>\n",
       "      <td>56</td>\n",
       "      <td>JARDIM DA PENHA</td>\n",
       "      <td>0</td>\n",
       "      <td>0</td>\n",
       "      <td>0</td>\n",
       "      <td>0</td>\n",
       "      <td>0</td>\n",
       "      <td>0</td>\n",
       "      <td>No</td>\n",
       "    </tr>\n",
       "    <tr>\n",
       "      <th>2</th>\n",
       "      <td>5642549</td>\n",
       "      <td>F</td>\n",
       "      <td>2016-04-29 16:19:04+00:00</td>\n",
       "      <td>2016-04-29 00:00:00+00:00</td>\n",
       "      <td>62</td>\n",
       "      <td>MATA DA PRAIA</td>\n",
       "      <td>0</td>\n",
       "      <td>0</td>\n",
       "      <td>0</td>\n",
       "      <td>0</td>\n",
       "      <td>0</td>\n",
       "      <td>0</td>\n",
       "      <td>No</td>\n",
       "    </tr>\n",
       "    <tr>\n",
       "      <th>3</th>\n",
       "      <td>5642828</td>\n",
       "      <td>F</td>\n",
       "      <td>2016-04-29 17:29:31+00:00</td>\n",
       "      <td>2016-04-29 00:00:00+00:00</td>\n",
       "      <td>8</td>\n",
       "      <td>PONTAL DE CAMBURI</td>\n",
       "      <td>0</td>\n",
       "      <td>0</td>\n",
       "      <td>0</td>\n",
       "      <td>0</td>\n",
       "      <td>0</td>\n",
       "      <td>0</td>\n",
       "      <td>No</td>\n",
       "    </tr>\n",
       "    <tr>\n",
       "      <th>4</th>\n",
       "      <td>5642494</td>\n",
       "      <td>F</td>\n",
       "      <td>2016-04-29 16:07:23+00:00</td>\n",
       "      <td>2016-04-29 00:00:00+00:00</td>\n",
       "      <td>56</td>\n",
       "      <td>JARDIM DA PENHA</td>\n",
       "      <td>0</td>\n",
       "      <td>1</td>\n",
       "      <td>1</td>\n",
       "      <td>0</td>\n",
       "      <td>0</td>\n",
       "      <td>0</td>\n",
       "      <td>No</td>\n",
       "    </tr>\n",
       "  </tbody>\n",
       "</table>\n",
       "</div>"
      ],
      "text/plain": [
       "   Appointment_Id Gender             Scheduled_Day           Appointment_Day  \\\n",
       "0         5642903      F 2016-04-29 18:38:08+00:00 2016-04-29 00:00:00+00:00   \n",
       "1         5642503      M 2016-04-29 16:08:27+00:00 2016-04-29 00:00:00+00:00   \n",
       "2         5642549      F 2016-04-29 16:19:04+00:00 2016-04-29 00:00:00+00:00   \n",
       "3         5642828      F 2016-04-29 17:29:31+00:00 2016-04-29 00:00:00+00:00   \n",
       "4         5642494      F 2016-04-29 16:07:23+00:00 2016-04-29 00:00:00+00:00   \n",
       "\n",
       "   Age       Neighborhood  Scholarship  Hypertension  Diabetes  Alcoholism  \\\n",
       "0   62    JARDIM DA PENHA            0             1         0           0   \n",
       "1   56    JARDIM DA PENHA            0             0         0           0   \n",
       "2   62      MATA DA PRAIA            0             0         0           0   \n",
       "3    8  PONTAL DE CAMBURI            0             0         0           0   \n",
       "4   56    JARDIM DA PENHA            0             1         1           0   \n",
       "\n",
       "   Handicap  SMS_received No_show  \n",
       "0         0             0      No  \n",
       "1         0             0      No  \n",
       "2         0             0      No  \n",
       "3         0             0      No  \n",
       "4         0             0      No  "
      ]
     },
     "execution_count": 19,
     "metadata": {},
     "output_type": "execute_result"
    }
   ],
   "source": [
    "# To Re-check\n",
    "df.head()"
   ]
  },
  {
   "cell_type": "markdown",
   "id": "6931d2e6",
   "metadata": {},
   "source": [
    "Colomn 'No_show' datas need to be changed from 'Yes, No' to Numeric"
   ]
  },
  {
   "cell_type": "code",
   "execution_count": 20,
   "id": "1e6880c6",
   "metadata": {},
   "outputs": [],
   "source": [
    "# Replace items on 'No_show' column with with numeric data.\n",
    "df['No_show'] = df['No_show'].map(\n",
    "                   {'Yes': 1 ,'No': 0})"
   ]
  },
  {
   "cell_type": "code",
   "execution_count": 21,
   "id": "113bd897",
   "metadata": {},
   "outputs": [
    {
     "data": {
      "text/plain": [
       "0    88208\n",
       "1    22319\n",
       "Name: No_show, dtype: int64"
      ]
     },
     "execution_count": 21,
     "metadata": {},
     "output_type": "execute_result"
    }
   ],
   "source": [
    "# To re-confirm\n",
    "df.No_show.value_counts()"
   ]
  },
  {
   "cell_type": "code",
   "execution_count": 22,
   "id": "fa404f69",
   "metadata": {},
   "outputs": [
    {
     "data": {
      "text/plain": [
       " 0      3539\n",
       " 1      2273\n",
       " 52     1746\n",
       " 49     1652\n",
       " 53     1651\n",
       "        ... \n",
       " 115       5\n",
       " 100       4\n",
       " 102       2\n",
       " 99        1\n",
       "-1         1\n",
       "Name: Age, Length: 104, dtype: int64"
      ]
     },
     "execution_count": 22,
     "metadata": {},
     "output_type": "execute_result"
    }
   ],
   "source": [
    "# Check number and counts of unique values in column 'Age'\n",
    "df.Age.value_counts()"
   ]
  },
  {
   "cell_type": "markdown",
   "id": "7596b041",
   "metadata": {},
   "source": [
    "Column 'Age' contains irregular value '-1' which has to be dropped."
   ]
  },
  {
   "cell_type": "code",
   "execution_count": 23,
   "id": "339114dc",
   "metadata": {},
   "outputs": [],
   "source": [
    "# Drop row '-1' of column 'Age'\n",
    "df.drop(df.query(\"Age == -1\").index,inplace=True)"
   ]
  },
  {
   "cell_type": "code",
   "execution_count": 24,
   "id": "fee7ef0d",
   "metadata": {},
   "outputs": [
    {
     "data": {
      "text/plain": [
       "0      3539\n",
       "1      2273\n",
       "52     1746\n",
       "49     1652\n",
       "53     1651\n",
       "       ... \n",
       "98        6\n",
       "115       5\n",
       "100       4\n",
       "102       2\n",
       "99        1\n",
       "Name: Age, Length: 103, dtype: int64"
      ]
     },
     "execution_count": 24,
     "metadata": {},
     "output_type": "execute_result"
    }
   ],
   "source": [
    "# To re-confirm\n",
    "df.Age.value_counts()"
   ]
  },
  {
   "cell_type": "code",
   "execution_count": 25,
   "id": "86b740d7",
   "metadata": {},
   "outputs": [
    {
     "data": {
      "text/html": [
       "<div>\n",
       "<style scoped>\n",
       "    .dataframe tbody tr th:only-of-type {\n",
       "        vertical-align: middle;\n",
       "    }\n",
       "\n",
       "    .dataframe tbody tr th {\n",
       "        vertical-align: top;\n",
       "    }\n",
       "\n",
       "    .dataframe thead th {\n",
       "        text-align: right;\n",
       "    }\n",
       "</style>\n",
       "<table border=\"1\" class=\"dataframe\">\n",
       "  <thead>\n",
       "    <tr style=\"text-align: right;\">\n",
       "      <th></th>\n",
       "      <th>Appointment_Id</th>\n",
       "      <th>Gender</th>\n",
       "      <th>Scheduled_Day</th>\n",
       "      <th>Appointment_Day</th>\n",
       "      <th>Age</th>\n",
       "      <th>Neighborhood</th>\n",
       "      <th>Scholarship</th>\n",
       "      <th>Hypertension</th>\n",
       "      <th>Diabetes</th>\n",
       "      <th>Alcoholism</th>\n",
       "      <th>Handicap</th>\n",
       "      <th>SMS_received</th>\n",
       "      <th>No_show</th>\n",
       "    </tr>\n",
       "  </thead>\n",
       "  <tbody>\n",
       "    <tr>\n",
       "      <th>0</th>\n",
       "      <td>5642903</td>\n",
       "      <td>F</td>\n",
       "      <td>2016-04-29 18:38:08+00:00</td>\n",
       "      <td>2016-04-29 00:00:00+00:00</td>\n",
       "      <td>62</td>\n",
       "      <td>JARDIM DA PENHA</td>\n",
       "      <td>0</td>\n",
       "      <td>1</td>\n",
       "      <td>0</td>\n",
       "      <td>0</td>\n",
       "      <td>0</td>\n",
       "      <td>0</td>\n",
       "      <td>0</td>\n",
       "    </tr>\n",
       "    <tr>\n",
       "      <th>1</th>\n",
       "      <td>5642503</td>\n",
       "      <td>M</td>\n",
       "      <td>2016-04-29 16:08:27+00:00</td>\n",
       "      <td>2016-04-29 00:00:00+00:00</td>\n",
       "      <td>56</td>\n",
       "      <td>JARDIM DA PENHA</td>\n",
       "      <td>0</td>\n",
       "      <td>0</td>\n",
       "      <td>0</td>\n",
       "      <td>0</td>\n",
       "      <td>0</td>\n",
       "      <td>0</td>\n",
       "      <td>0</td>\n",
       "    </tr>\n",
       "    <tr>\n",
       "      <th>2</th>\n",
       "      <td>5642549</td>\n",
       "      <td>F</td>\n",
       "      <td>2016-04-29 16:19:04+00:00</td>\n",
       "      <td>2016-04-29 00:00:00+00:00</td>\n",
       "      <td>62</td>\n",
       "      <td>MATA DA PRAIA</td>\n",
       "      <td>0</td>\n",
       "      <td>0</td>\n",
       "      <td>0</td>\n",
       "      <td>0</td>\n",
       "      <td>0</td>\n",
       "      <td>0</td>\n",
       "      <td>0</td>\n",
       "    </tr>\n",
       "    <tr>\n",
       "      <th>3</th>\n",
       "      <td>5642828</td>\n",
       "      <td>F</td>\n",
       "      <td>2016-04-29 17:29:31+00:00</td>\n",
       "      <td>2016-04-29 00:00:00+00:00</td>\n",
       "      <td>8</td>\n",
       "      <td>PONTAL DE CAMBURI</td>\n",
       "      <td>0</td>\n",
       "      <td>0</td>\n",
       "      <td>0</td>\n",
       "      <td>0</td>\n",
       "      <td>0</td>\n",
       "      <td>0</td>\n",
       "      <td>0</td>\n",
       "    </tr>\n",
       "    <tr>\n",
       "      <th>4</th>\n",
       "      <td>5642494</td>\n",
       "      <td>F</td>\n",
       "      <td>2016-04-29 16:07:23+00:00</td>\n",
       "      <td>2016-04-29 00:00:00+00:00</td>\n",
       "      <td>56</td>\n",
       "      <td>JARDIM DA PENHA</td>\n",
       "      <td>0</td>\n",
       "      <td>1</td>\n",
       "      <td>1</td>\n",
       "      <td>0</td>\n",
       "      <td>0</td>\n",
       "      <td>0</td>\n",
       "      <td>0</td>\n",
       "    </tr>\n",
       "  </tbody>\n",
       "</table>\n",
       "</div>"
      ],
      "text/plain": [
       "   Appointment_Id Gender             Scheduled_Day           Appointment_Day  \\\n",
       "0         5642903      F 2016-04-29 18:38:08+00:00 2016-04-29 00:00:00+00:00   \n",
       "1         5642503      M 2016-04-29 16:08:27+00:00 2016-04-29 00:00:00+00:00   \n",
       "2         5642549      F 2016-04-29 16:19:04+00:00 2016-04-29 00:00:00+00:00   \n",
       "3         5642828      F 2016-04-29 17:29:31+00:00 2016-04-29 00:00:00+00:00   \n",
       "4         5642494      F 2016-04-29 16:07:23+00:00 2016-04-29 00:00:00+00:00   \n",
       "\n",
       "   Age       Neighborhood  Scholarship  Hypertension  Diabetes  Alcoholism  \\\n",
       "0   62    JARDIM DA PENHA            0             1         0           0   \n",
       "1   56    JARDIM DA PENHA            0             0         0           0   \n",
       "2   62      MATA DA PRAIA            0             0         0           0   \n",
       "3    8  PONTAL DE CAMBURI            0             0         0           0   \n",
       "4   56    JARDIM DA PENHA            0             1         1           0   \n",
       "\n",
       "   Handicap  SMS_received  No_show  \n",
       "0         0             0        0  \n",
       "1         0             0        0  \n",
       "2         0             0        0  \n",
       "3         0             0        0  \n",
       "4         0             0        0  "
      ]
     },
     "execution_count": 25,
     "metadata": {},
     "output_type": "execute_result"
    }
   ],
   "source": [
    "# Re-check the first 5 columns of dataframe\n",
    "df.head()"
   ]
  },
  {
   "cell_type": "markdown",
   "id": "3b1b0834",
   "metadata": {},
   "source": [
    "The following has been done on the data set;\n",
    "\n",
    "    1. Unnecessary column has been droped.\n",
    "    \n",
    "    2. Some column labels have been renamed.\n",
    "    \n",
    "    3. Some rows have been modified.\n"
   ]
  },
  {
   "cell_type": "code",
   "execution_count": 26,
   "id": "a69c8286",
   "metadata": {},
   "outputs": [],
   "source": [
    "# Save your datasets as new files!\n",
    "df.to_csv('appointment_v2.csv', index=False)"
   ]
  },
  {
   "cell_type": "markdown",
   "id": "6238aceb",
   "metadata": {},
   "source": [
    "### 3. EXPLORATORY DATA ANALYSIS"
   ]
  },
  {
   "cell_type": "code",
   "execution_count": 27,
   "id": "9429f3d5",
   "metadata": {},
   "outputs": [
    {
     "data": {
      "image/png": "[encoded data removed]",
      "text/plain": [
       "<Figure size 1080x1080 with 12 Axes>"
      ]
     },
     "metadata": {
      "needs_background": "light"
     },
     "output_type": "display_data"
    }
   ],
   "source": [
    "df.hist(figsize = (15, 15));"
   ]
  },
  {
   "cell_type": "code",
   "execution_count": 28,
   "id": "c60dbe28",
   "metadata": {},
   "outputs": [
    {
     "data": {
      "text/html": [
       "<div>\n",
       "<style scoped>\n",
       "    .dataframe tbody tr th:only-of-type {\n",
       "        vertical-align: middle;\n",
       "    }\n",
       "\n",
       "    .dataframe tbody tr th {\n",
       "        vertical-align: top;\n",
       "    }\n",
       "\n",
       "    .dataframe thead th {\n",
       "        text-align: right;\n",
       "    }\n",
       "</style>\n",
       "<table border=\"1\" class=\"dataframe\">\n",
       "  <thead>\n",
       "    <tr style=\"text-align: right;\">\n",
       "      <th></th>\n",
       "      <th>Appointment_Id</th>\n",
       "      <th>Gender</th>\n",
       "      <th>Scheduled_Day</th>\n",
       "      <th>Appointment_Day</th>\n",
       "      <th>Age</th>\n",
       "      <th>Neighborhood</th>\n",
       "      <th>Scholarship</th>\n",
       "      <th>Hypertension</th>\n",
       "      <th>Diabetes</th>\n",
       "      <th>Alcoholism</th>\n",
       "      <th>Handicap</th>\n",
       "      <th>SMS_received</th>\n",
       "      <th>No_show</th>\n",
       "    </tr>\n",
       "  </thead>\n",
       "  <tbody>\n",
       "  </tbody>\n",
       "</table>\n",
       "</div>"
      ],
      "text/plain": [
       "Empty DataFrame\n",
       "Columns: [Appointment_Id, Gender, Scheduled_Day, Appointment_Day, Age, Neighborhood, Scholarship, Hypertension, Diabetes, Alcoholism, Handicap, SMS_received, No_show]\n",
       "Index: []"
      ]
     },
     "execution_count": 28,
     "metadata": {},
     "output_type": "execute_result"
    }
   ],
   "source": [
    "df.head(0)"
   ]
  },
  {
   "cell_type": "code",
   "execution_count": 29,
   "id": "9ead81d8",
   "metadata": {
    "scrolled": true
   },
   "outputs": [
    {
     "data": {
      "image/png": "[encoded data removed]",
      "text/plain": [
       "<Figure size 576x576 with 1 Axes>"
      ]
     },
     "metadata": {
      "needs_background": "light"
     },
     "output_type": "display_data"
    }
   ],
   "source": [
    "# Chart of Handicap\n",
    "df['Handicap'].value_counts().plot(kind='bar', figsize = (8,8));"
   ]
  },
  {
   "cell_type": "code",
   "execution_count": 30,
   "id": "3568758c",
   "metadata": {},
   "outputs": [
    {
     "data": {
      "image/png": "[encoded data removed]",
      "text/plain": [
       "<Figure size 576x576 with 1 Axes>"
      ]
     },
     "metadata": {},
     "output_type": "display_data"
    }
   ],
   "source": [
    "# Chart of Alcoholism\n",
    "df['Alcoholism'].value_counts().plot(kind='pie', figsize = (8,8));"
   ]
  },
  {
   "cell_type": "code",
   "execution_count": 31,
   "id": "d2a1e9e3",
   "metadata": {},
   "outputs": [
    {
     "data": {
      "image/png": "[encoded data removed]",
      "text/plain": [
       "<Figure size 576x576 with 1 Axes>"
      ]
     },
     "metadata": {
      "needs_background": "light"
     },
     "output_type": "display_data"
    }
   ],
   "source": [
    "# Chart of Diabetes\n",
    "df['Diabetes'].value_counts().plot(kind='bar', figsize = (8,8));"
   ]
  },
  {
   "cell_type": "code",
   "execution_count": 32,
   "id": "c1a5b04d",
   "metadata": {},
   "outputs": [
    {
     "data": {
      "image/png": "[encoded data removed]",
      "text/plain": [
       "<Figure size 576x576 with 1 Axes>"
      ]
     },
     "metadata": {
      "needs_background": "light"
     },
     "output_type": "display_data"
    }
   ],
   "source": [
    "# Chart of Hypertension\n",
    "df['Hypertension'].value_counts().plot(kind='bar', figsize = (8,8));"
   ]
  },
  {
   "cell_type": "code",
   "execution_count": 33,
   "id": "1f193ce7",
   "metadata": {},
   "outputs": [
    {
     "data": {
      "image/png": "[encoded data removed]",
      "text/plain": [
       "<Figure size 1080x1080 with 1 Axes>"
      ]
     },
     "metadata": {
      "needs_background": "light"
     },
     "output_type": "display_data"
    }
   ],
   "source": [
    "# Chart of Neighborhood\n",
    "df['Neighborhood'].value_counts().plot(kind='bar', figsize = (15,15));"
   ]
  },
  {
   "cell_type": "markdown",
   "id": "74793b7e",
   "metadata": {},
   "source": [
    "###### Q1. What is the ratio of Male to Female Patient in the dataframe?"
   ]
  },
  {
   "cell_type": "code",
   "execution_count": 34,
   "id": "10ff9326",
   "metadata": {},
   "outputs": [
    {
     "data": {
      "text/plain": [
       "F    65.0\n",
       "M    35.0\n",
       "Name: Gender, dtype: float64"
      ]
     },
     "execution_count": 34,
     "metadata": {},
     "output_type": "execute_result"
    }
   ],
   "source": [
    "round(df.Gender.value_counts()/len(df)*100)"
   ]
  },
  {
   "cell_type": "markdown",
   "id": "519198fa",
   "metadata": {},
   "source": [
    "Percentage of Female is 65\n",
    "\n",
    "Percentage of Male is 35"
   ]
  },
  {
   "cell_type": "code",
   "execution_count": 35,
   "id": "821cee8e",
   "metadata": {},
   "outputs": [
    {
     "data": {
      "image/png": "[encoded data removed]",
      "text/plain": [
       "<Figure size 432x288 with 1 Axes>"
      ]
     },
     "metadata": {
      "needs_background": "light"
     },
     "output_type": "display_data"
    }
   ],
   "source": [
    "df.Gender.value_counts().plot(kind=\"bar\",color=\"blue\")\n",
    "plt.style.use('seaborn')\n",
    "plt.title(\"Gender\")\n",
    "plt.xlabel('Male and Female')\n",
    "plt.ylabel('counts of people')\n",
    "plt.show()"
   ]
  },
  {
   "cell_type": "markdown",
   "id": "fe3af527",
   "metadata": {},
   "source": [
    "The proportion of females is greater than that of males (the number of females is near twice the number of men)"
   ]
  },
  {
   "cell_type": "markdown",
   "id": "6633d87a",
   "metadata": {},
   "source": [
    "###### Q2. Does the Gender of the patients affect the showing up for their appointments?"
   ]
  },
  {
   "cell_type": "code",
   "execution_count": 36,
   "id": "5008ad07",
   "metadata": {},
   "outputs": [
    {
     "name": "stdout",
     "output_type": "stream",
     "text": [
      "Gender  No_show\n",
      "F       0          57245\n",
      "        1          14594\n",
      "M       0          30962\n",
      "        1           7725\n",
      "Name: No_show, dtype: int64\n"
     ]
    }
   ],
   "source": [
    "Gender_count = df.groupby(\"Gender\")[\"No_show\"].value_counts()\n",
    "print(Gender_count)\n"
   ]
  },
  {
   "cell_type": "code",
   "execution_count": 37,
   "id": "6ac5ffad",
   "metadata": {},
   "outputs": [],
   "source": [
    "def MyHistplot(df, xVar, figsize = (14, 6), stacked = True, normalize = False):\n",
    "    df.groupby(xVar)['No_show'].value_counts(normalize = normalize).mul(int(f'{100 if normalize else 1}')).round(2).unstack().plot(kind=\"bar\",\n",
    "                                                                                                                                 stacked=stacked, \n",
    "                                                                                                                                 figsize=figsize,\n",
    "                                                                                                                                width=0.7,\n",
    "                                                                                                                                edgecolor='white',\n",
    "                                                                                                                                 rot= 0);\n",
    "    plt.ylabel(\"missing appointments\")\n",
    "    plt.title(f\"percentage of missing appointments across all {xVar}\".title(),fontsize = 18, weight='bold');\n",
    "    if normalize :\n",
    "        plt.axhline(df['No_show'].value_counts(normalize = True).mul(100)[0],\n",
    "                   color = 'maroon', ls = '-.', alpha = 0.75, label = 'proportion of Attendance\\n (All patients)')\n",
    "    plt.legend(loc='center left', bbox_to_anchor=(1,0.5));"
   ]
  },
  {
   "cell_type": "code",
   "execution_count": 38,
   "id": "f26cc1af",
   "metadata": {},
   "outputs": [
    {
     "data": {
      "image/png": "[encoded data removed]",
      "text/plain": [
       "<Figure size 1008x432 with 1 Axes>"
      ]
     },
     "metadata": {},
     "output_type": "display_data"
    }
   ],
   "source": [
    "MyHistplot(df, 'Gender')"
   ]
  },
  {
   "cell_type": "markdown",
   "id": "9e31451b",
   "metadata": {},
   "source": [
    "###### Results"
   ]
  },
  {
   "cell_type": "markdown",
   "id": "2579aec1",
   "metadata": {},
   "source": [
    "    a. we could say that there is no correlation between gender alone and missing the appointment.\n",
    "\n",
    "    b. The percentage of male and female patients missing their appointments is the same as the general average."
   ]
  },
  {
   "cell_type": "markdown",
   "id": "d1df0f00",
   "metadata": {},
   "source": [
    "###### Q3. Does non_handicap patients show up more than the handicap patients?"
   ]
  },
  {
   "cell_type": "code",
   "execution_count": 39,
   "id": "39087a02",
   "metadata": {},
   "outputs": [
    {
     "name": "stdout",
     "output_type": "stream",
     "text": [
      "Handicap  No_show\n",
      "0         0          86373\n",
      "          1          21912\n",
      "1         0           1834\n",
      "          1            407\n",
      "Name: No_show, dtype: int64\n"
     ]
    }
   ],
   "source": [
    "Handicap_count = df.groupby(\"Handicap\")[\"No_show\"].value_counts()\n",
    "print(Handicap_count)\n"
   ]
  },
  {
   "cell_type": "code",
   "execution_count": 40,
   "id": "60f567ff",
   "metadata": {},
   "outputs": [],
   "source": [
    "def MyHistplot(df, xVar, figsize = (14, 6), stacked = True, normalize = False):\n",
    "    df.groupby(xVar)['No_show'].value_counts(normalize = normalize).mul(int(f'{100 if normalize else 1}')).round(2).unstack().plot(kind=\"bar\",\n",
    "                                                                                                                                 stacked=stacked, \n",
    "                                                                                                                                 figsize=figsize,\n",
    "                                                                                                                                width=0.7,\n",
    "                                                                                                                                edgecolor='white',\n",
    "                                                                                                                                 rot= 0);\n",
    "    plt.ylabel(\"missing appointments\")\n",
    "    plt.title(f\"possibility of Handicaps missing appointments {xVar}\".title(),fontsize = 18, weight='bold');\n",
    "    if normalize :\n",
    "        plt.axhline(df['No_show'].value_counts(normalize = True).mul(100)[0],\n",
    "                   color = 'maroon', ls = '-.', alpha = 0.75, label = 'proportion of Attendance\\n (All patients)')\n",
    "    plt.legend(loc='center left', bbox_to_anchor=(1,0.5));"
   ]
  },
  {
   "cell_type": "code",
   "execution_count": 41,
   "id": "60f503c5",
   "metadata": {},
   "outputs": [
    {
     "data": {
      "image/png": "[encoded data removed]",
      "text/plain": [
       "<Figure size 1008x432 with 1 Axes>"
      ]
     },
     "metadata": {},
     "output_type": "display_data"
    }
   ],
   "source": [
    "MyHistplot(df, 'Handicap')"
   ]
  },
  {
   "cell_type": "markdown",
   "id": "1db1e346",
   "metadata": {},
   "source": [
    "###### Results"
   ]
  },
  {
   "cell_type": "markdown",
   "id": "9ed7703a",
   "metadata": {},
   "source": [
    "The above results shows that the proportion of Handicap patient showing up for appointment is almost the same thing as that of Non-handicap.  Thus being Handicap only does not influence the 'No_show' for the appointment."
   ]
  },
  {
   "cell_type": "markdown",
   "id": "0b82ab85",
   "metadata": {},
   "source": [
    "###### Q4. Does messaging the patients affect the showing up for their appointments?"
   ]
  },
  {
   "cell_type": "code",
   "execution_count": 42,
   "id": "4b804e76",
   "metadata": {},
   "outputs": [
    {
     "data": {
      "text/html": [
       "<div>\n",
       "<style scoped>\n",
       "    .dataframe tbody tr th:only-of-type {\n",
       "        vertical-align: middle;\n",
       "    }\n",
       "\n",
       "    .dataframe tbody tr th {\n",
       "        vertical-align: top;\n",
       "    }\n",
       "\n",
       "    .dataframe thead th {\n",
       "        text-align: right;\n",
       "    }\n",
       "</style>\n",
       "<table border=\"1\" class=\"dataframe\">\n",
       "  <thead>\n",
       "    <tr style=\"text-align: right;\">\n",
       "      <th></th>\n",
       "      <th>Appointment_Id</th>\n",
       "      <th>Gender</th>\n",
       "      <th>Scheduled_Day</th>\n",
       "      <th>Appointment_Day</th>\n",
       "      <th>Age</th>\n",
       "      <th>Neighborhood</th>\n",
       "      <th>Scholarship</th>\n",
       "      <th>Hypertension</th>\n",
       "      <th>Diabetes</th>\n",
       "      <th>Alcoholism</th>\n",
       "      <th>Handicap</th>\n",
       "      <th>SMS_received</th>\n",
       "      <th>No_show</th>\n",
       "    </tr>\n",
       "  </thead>\n",
       "  <tbody>\n",
       "  </tbody>\n",
       "</table>\n",
       "</div>"
      ],
      "text/plain": [
       "Empty DataFrame\n",
       "Columns: [Appointment_Id, Gender, Scheduled_Day, Appointment_Day, Age, Neighborhood, Scholarship, Hypertension, Diabetes, Alcoholism, Handicap, SMS_received, No_show]\n",
       "Index: []"
      ]
     },
     "execution_count": 42,
     "metadata": {},
     "output_type": "execute_result"
    }
   ],
   "source": [
    "df.head(0)"
   ]
  },
  {
   "cell_type": "code",
   "execution_count": 43,
   "id": "518cf192",
   "metadata": {},
   "outputs": [
    {
     "data": {
      "text/plain": [
       "0    80.0\n",
       "1    20.0\n",
       "Name: No_show, dtype: float64"
      ]
     },
     "execution_count": 43,
     "metadata": {},
     "output_type": "execute_result"
    }
   ],
   "source": [
    "# Percentage of the patients that showed up compare with those that did not show up\n",
    "round(df.No_show.value_counts()/len(df)*100)"
   ]
  },
  {
   "cell_type": "markdown",
   "id": "b66cd917",
   "metadata": {},
   "source": [
    "The result above shows that 80% of the patients showed up, while 20% of the patients did not show up."
   ]
  },
  {
   "cell_type": "code",
   "execution_count": 44,
   "id": "478ad5d4",
   "metadata": {},
   "outputs": [
    {
     "name": "stdout",
     "output_type": "stream",
     "text": [
      "SMS_received  No_show\n",
      "0             0          57.0\n",
      "              1          11.0\n",
      "1             0          23.0\n",
      "              1           9.0\n",
      "Name: No_show, dtype: float64\n"
     ]
    }
   ],
   "source": [
    "# Comparison of the percentage of SMS_received with No_show\n",
    "SMS_received_count = round(df.groupby(\"SMS_received\")[\"No_show\"].value_counts()/len(df)*100)\n",
    "print(SMS_received_count)\n"
   ]
  },
  {
   "cell_type": "code",
   "execution_count": 45,
   "id": "9dd08992",
   "metadata": {},
   "outputs": [
    {
     "data": {
      "image/png": "[encoded data removed]",
      "text/plain": [
       "<Figure size 576x396 with 1 Axes>"
      ]
     },
     "metadata": {},
     "output_type": "display_data"
    }
   ],
   "source": [
    "SMS_received_count = round(df.groupby(\"SMS_received\")[\"No_show\"].value_counts()/len(df)*100).plot(kind='bar',title='SMS_received Status',ylabel='Total number',xlabel='SMS_received Status of patient')"
   ]
  },
  {
   "cell_type": "markdown",
   "id": "6cf225d7",
   "metadata": {},
   "source": [
    "###### Results"
   ]
  },
  {
   "cell_type": "markdown",
   "id": "771a255c",
   "metadata": {},
   "source": [
    "The result above shows that 57% of the patient that does not recieve SMS showhed up for their appointment, while 11% did not show up. And 23% of the patient that recieve SMS showed up, while 9% did not show up.\n",
    "\n",
    "            The results above clearly indicates that SMS_received only does not influence the showing up of the patients for appointments."
   ]
  },
  {
   "cell_type": "markdown",
   "id": "2f3d9908",
   "metadata": {},
   "source": [
    "### 4. CONCLUSIONS"
   ]
  },
  {
   "cell_type": "markdown",
   "id": "3e8b331c",
   "metadata": {},
   "source": [
    "This dataset collects information\n",
    "from 100k medical appointments in\n",
    "Brazil and is focused on the question\n",
    "of whether or not patients show up\n",
    "for their appointment.\n",
    "\n",
    "    There are 12 independent variables and 1 dependent variable. The following are deduced from careful analysis of the dataset:\n",
    "    \n",
    "    The result above shows that 80% of the patients showed up, while 20% of the patients did not show up.\n",
    "    \n",
    "              We could say that there is no adequate correlation between gender alone and missing the appointment, as the proportion of male and female patients missing their appointments is the same as the general average.\n",
    "          \n",
    "          The proportion of Handicap patient showing up for appointment is almost the same thing as that of Non-handicap. Thus being Handicap only does not influence the 'No_show' for the appointment. neither does  SMS_received only influence the showing up of the patients for appointments."
   ]
  },
  {
   "cell_type": "markdown",
   "id": "2787699a",
   "metadata": {},
   "source": [
    "##### Limitations"
   ]
  },
  {
   "cell_type": "markdown",
   "id": "039b1360",
   "metadata": {},
   "source": [
    "The combined effect of the 12 independent variables could have more influence on the dependent variable but the timelimit for the research analysis could not permit the careful examination."
   ]
  },
  {
   "cell_type": "code",
   "execution_count": 46,
   "id": "4280645d",
   "metadata": {},
   "outputs": [
    {
     "data": {
      "text/plain": [
       "1"
      ]
     },
     "execution_count": 46,
     "metadata": {},
     "output_type": "execute_result"
    }
   ],
   "source": [
    "from subprocess import call\n",
    "call (['python', '-m', 'nbconvert', 'PROJECT 1_SUBMITTED.ipynb'])"
   ]
  }
 ],
 "metadata": {
  "kernelspec": {
   "display_name": "Python 3 (ipykernel)",
   "language": "python",
   "name": "python3"
  },
  "language_info": {
   "codemirror_mode": {
    "name": "ipython",
    "version": 3
   },
   "file_extension": ".py",
   "mimetype": "text/x-python",
   "name": "python",
   "nbconvert_exporter": "python",
   "pygments_lexer": "ipython3",
   "version": "3.11.5"
  }
 },
 "nbformat": 4,
 "nbformat_minor": 5
}
